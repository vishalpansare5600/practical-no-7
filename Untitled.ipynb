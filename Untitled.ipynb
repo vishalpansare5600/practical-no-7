{
 "cells": [
  {
   "cell_type": "code",
   "execution_count": 2,
   "id": "5b474f56",
   "metadata": {},
   "outputs": [
    {
     "name": "stdout",
     "output_type": "stream",
     "text": [
      "Requirement already satisfied: nltk in d:\\anaconda new\\lib\\site-packages (3.7)\n",
      "Requirement already satisfied: tqdm in d:\\anaconda new\\lib\\site-packages (from nltk) (4.64.1)\n",
      "Requirement already satisfied: regex>=2021.8.3 in d:\\anaconda new\\lib\\site-packages (from nltk) (2022.7.9)\n",
      "Requirement already satisfied: joblib in d:\\anaconda new\\lib\\site-packages (from nltk) (1.1.0)\n",
      "Requirement already satisfied: click in d:\\anaconda new\\lib\\site-packages (from nltk) (8.0.4)\n",
      "Requirement already satisfied: colorama in d:\\anaconda new\\lib\\site-packages (from click->nltk) (0.4.5)\n",
      "Note: you may need to restart the kernel to use updated packages.\n"
     ]
    }
   ],
   "source": [
    "pip install nltk"
   ]
  },
  {
   "cell_type": "code",
   "execution_count": 3,
   "id": "2b5e3704",
   "metadata": {},
   "outputs": [],
   "source": [
    "import nltk\n",
    "\n",
    "from nltk.corpus import stopwords\n",
    "from nltk.tokenize import word_tokenize, sent_tokenize\n",
    "from nltk.stem import LancasterStemmer\n",
    "from nltk.stem import PorterStemmer\n",
    "from nltk.stem import WordNetLemmatizer "
   ]
  },
  {
   "cell_type": "code",
   "execution_count": 4,
   "id": "a4da6e8e",
   "metadata": {},
   "outputs": [
    {
     "name": "stderr",
     "output_type": "stream",
     "text": [
      "[nltk_data] Downloading package stopwords to\n",
      "[nltk_data]     C:\\Users\\Vishal\\AppData\\Roaming\\nltk_data...\n",
      "[nltk_data]   Package stopwords is already up-to-date!\n",
      "[nltk_data] Downloading package punkt to\n",
      "[nltk_data]     C:\\Users\\Vishal\\AppData\\Roaming\\nltk_data...\n",
      "[nltk_data]   Package punkt is already up-to-date!\n",
      "[nltk_data] Downloading package averaged_perceptron_tagger to\n",
      "[nltk_data]     C:\\Users\\Vishal\\AppData\\Roaming\\nltk_data...\n",
      "[nltk_data]   Package averaged_perceptron_tagger is already up-to-\n",
      "[nltk_data]       date!\n",
      "[nltk_data] Downloading package wordnet to\n",
      "[nltk_data]     C:\\Users\\Vishal\\AppData\\Roaming\\nltk_data...\n",
      "[nltk_data]   Package wordnet is already up-to-date!\n",
      "[nltk_data] Downloading package omw-1.4 to\n",
      "[nltk_data]     C:\\Users\\Vishal\\AppData\\Roaming\\nltk_data...\n"
     ]
    },
    {
     "data": {
      "text/plain": [
       "True"
      ]
     },
     "execution_count": 4,
     "metadata": {},
     "output_type": "execute_result"
    }
   ],
   "source": [
    "nltk.download('stopwords')\n",
    "nltk.download('punkt')\n",
    "nltk.download('averaged_perceptron_tagger')\n",
    "nltk.download('wordnet')\n",
    "nltk.download('omw-1.4')"
   ]
  },
  {
   "cell_type": "code",
   "execution_count": 5,
   "id": "abec90ac",
   "metadata": {},
   "outputs": [
    {
     "name": "stdout",
     "output_type": "stream",
     "text": [
      "[('Sukanya', 'NNP'), (',', ','), ('Rajib', 'NNP'), ('Naba', 'NNP'), ('good', 'JJ'), ('friends', 'NNS'), ('.', '.')]\n",
      "Stemming by PorterStemmer:  ['sukanya', ',', 'rajib', 'naba', 'good', 'friend', '.']\n",
      "Stemming by LancsterStemmer:  ['sukany', ',', 'rajib', 'nab', 'good', 'friend', '.']\n",
      "Lemmatize by Wordnet Lemmatizer:  ['Sukanya', ',', 'Rajib', 'Naba', 'good', 'friend', '.']\n",
      "[('Sukanya', 'NNP'), ('getting', 'VBG'), ('married', 'VBN'), ('next', 'JJ'), ('year', 'NN'), ('.', '.')]\n",
      "Stemming by PorterStemmer:  ['sukanya', 'get', 'marri', 'next', 'year', '.']\n",
      "Stemming by LancsterStemmer:  ['sukany', 'get', 'marry', 'next', 'year', '.']\n",
      "Lemmatize by Wordnet Lemmatizer:  ['Sukanya', 'getting', 'married', 'next', 'year', '.']\n",
      "[('Marriage', 'NN'), ('big', 'JJ'), ('step', 'NN'), ('one', 'CD'), ('’', 'NN'), ('life.It', 'NN'), ('exciting', 'VBG'), ('frightening', 'NN'), ('.', '.')]\n",
      "Stemming by PorterStemmer:  ['marriag', 'big', 'step', 'one', '’', 'life.it', 'excit', 'frighten', '.']\n",
      "Stemming by LancsterStemmer:  ['marry', 'big', 'step', 'on', '’', 'life.it', 'excit', 'fright', '.']\n",
      "Lemmatize by Wordnet Lemmatizer:  ['Marriage', 'big', 'step', 'one', '’', 'life.It', 'exciting', 'frightening', '.']\n",
      "[('But', 'CC'), ('friendship', 'NN'), ('sacred', 'VBD'), ('bond', 'NN'), ('people.It', 'NN'), ('special', 'JJ'), ('kind', 'NN'), ('love', 'VB'), ('us', 'PRP'), ('.', '.')]\n",
      "Stemming by PorterStemmer:  ['but', 'friendship', 'sacr', 'bond', 'people.it', 'special', 'kind', 'love', 'us', '.']\n",
      "Stemming by LancsterStemmer:  ['but', 'friend', 'sacr', 'bond', 'people.it', 'spec', 'kind', 'lov', 'us', '.']\n",
      "Lemmatize by Wordnet Lemmatizer:  ['But', 'friendship', 'sacred', 'bond', 'people.It', 'special', 'kind', 'love', 'u', '.']\n",
      "[('Many', 'JJ'), ('must', 'MD'), ('tried', 'VB'), ('searching', 'VBG'), ('friend', 'NN'), ('never', 'RB'), ('found', 'VBD'), ('right', 'JJ'), ('one', 'CD'), ('.', '.')]\n",
      "Stemming by PorterStemmer:  ['mani', 'must', 'tri', 'search', 'friend', 'never', 'found', 'right', 'one', '.']\n",
      "Stemming by LancsterStemmer:  ['many', 'must', 'tri', 'search', 'friend', 'nev', 'found', 'right', 'on', '.']\n",
      "Lemmatize by Wordnet Lemmatizer:  ['Many', 'must', 'tried', 'searching', 'friend', 'never', 'found', 'right', 'one', '.']\n"
     ]
    }
   ],
   "source": [
    "p = PorterStemmer()\n",
    "l = LancasterStemmer()\n",
    "lemt = WordNetLemmatizer()\n",
    "\n",
    "stop_words = set(stopwords.words('english'))\n",
    " \n",
    "# Dummy text\n",
    "txt = \"Sukanya, Rajib and Naba are my good friends. \" \\\n",
    "    \"Sukanya is getting married next year. \" \\\n",
    "    \"Marriage is a big step in one’s life.\" \\\n",
    "    \"It is both exciting and frightening. \" \\\n",
    "    \"But friendship is a sacred bond between people.\" \\\n",
    "    \"It is a special kind of love between us. \" \\\n",
    "    \"Many of you must have tried searching for a friend \"\\\n",
    "    \"but never found the right one.\"\n",
    " \n",
    "# sent_tokenize is one of instances of\n",
    "# PunktSentenceTokenizer from the nltk.tokenize.punkt module\n",
    "\n",
    "tokenized = sent_tokenize(txt)  #it is line by line tokenizing\n",
    "\n",
    "for i in tokenized:\n",
    "\n",
    "    # Word tokenizers is used to find the words\n",
    "    # and punctuation in a string\n",
    "    wordsList = nltk.word_tokenize(i)\n",
    "    \n",
    " \n",
    "    # removing stop words from wordList\n",
    "    wordsList = [w for w in wordsList if not w in stop_words]\n",
    " \n",
    "    # Using a Tagger. Which is part-of-speech\n",
    "    # tagger or POS-tagger.\n",
    "    tagged = nltk.pos_tag(wordsList)\n",
    "    \n",
    "    print(tagged)\n",
    "\n",
    "    Pstemed = [p.stem(w) for w in wordsList]\n",
    "    Lstemed = [l.stem(w) for w in wordsList]\n",
    "    WLemtize = [lemt.lemmatize(w) for w in wordsList]\n",
    "\n",
    "    print('Stemming by PorterStemmer: ', Pstemed)\n",
    "    print('Stemming by LancsterStemmer: ',Lstemed)\n",
    "    print('Lemmatize by Wordnet Lemmatizer: ',WLemtize)\n"
   ]
  },
  {
   "cell_type": "code",
   "execution_count": 6,
   "id": "1056f5b9",
   "metadata": {},
   "outputs": [
    {
     "name": "stdout",
     "output_type": "stream",
     "text": [
      "{'will', 'no', \"aren't\", 'can', 'now', 've', 'until', 't', 'your', 'yourselves', 'not', 'needn', \"you'll\", 'yours', \"you've\", 'so', 'at', 'only', 'who', 'didn', 'him', 'into', 'very', 'its', 'just', 'isn', 'through', 'most', 'haven', 'about', 'he', 'is', 'in', 'more', 'own', 'are', 'than', 'itself', 'hasn', 'all', 're', \"doesn't\", 'have', 'here', 'these', 'herself', 'did', 'from', 'our', \"haven't\", 'it', 'further', \"shouldn't\", \"couldn't\", 'ain', 'weren', 'my', 'myself', 'a', \"won't\", 'by', 'mightn', 'same', 'where', 'between', 'because', \"didn't\", 'her', 'had', 'few', 'don', 's', \"that'll\", 'once', 'should', 'such', 'why', 'been', \"it's\", 'ours', 'being', 'other', 'too', 'couldn', \"needn't\", 'for', 'whom', 'out', \"weren't\", \"mustn't\", 'me', 'again', 'which', 'has', 'hers', 'mustn', \"shan't\", 'yourself', 'd', 'with', \"isn't\", 'both', 'but', 'be', 'against', 'them', 'themselves', 'y', 'was', 'wouldn', 'ourselves', 'if', 'any', 'each', 'wasn', 'to', 'over', 'or', 'before', \"don't\", \"hasn't\", 'down', 'she', \"you'd\", 'while', 'when', 'doing', 'then', 'the', 'his', 'am', 'their', 'i', 'we', 'm', 'll', \"she's\", 'do', 'some', \"should've\", 'o', 'of', 'after', 'off', 'and', 'this', 'those', \"mightn't\", \"wouldn't\", 'nor', 'does', 'theirs', 'during', 'were', 'shan', 'how', 'what', \"hadn't\", 'above', 'they', 'up', 'shouldn', 'an', 'having', 'there', 'himself', 'won', 'below', 'that', \"wasn't\", 'ma', 'you', 'under', 'on', 'hadn', 'doesn', 'as', \"you're\", 'aren'}\n",
      "['Sukanya, Rajib and Naba are my good friends.', 'Sukanya is getting married next year.', 'Marriage is a big step in one’s life.It is both exciting and frightening.', 'But friendship is a sacred bond between people.It is a special kind of love between us.', 'Many of you must have tried searching for a friend but never found the right one.']\n",
      "['Sukanya', ',', 'Rajib', 'and', 'Naba', 'are', 'my', 'good', 'friends', '.']\n",
      "After removing stopwords:  ['Sukanya', ',', 'Rajib', 'Naba', 'good', 'friends', '.']\n",
      "['Sukanya', 'is', 'getting', 'married', 'next', 'year', '.']\n",
      "After removing stopwords:  ['Sukanya', 'getting', 'married', 'next', 'year', '.']\n",
      "['Marriage', 'is', 'a', 'big', 'step', 'in', 'one', '’', 's', 'life.It', 'is', 'both', 'exciting', 'and', 'frightening', '.']\n",
      "After removing stopwords:  ['Marriage', 'big', 'step', 'one', '’', 'life.It', 'exciting', 'frightening', '.']\n",
      "['But', 'friendship', 'is', 'a', 'sacred', 'bond', 'between', 'people.It', 'is', 'a', 'special', 'kind', 'of', 'love', 'between', 'us', '.']\n",
      "After removing stopwords:  ['But', 'friendship', 'sacred', 'bond', 'people.It', 'special', 'kind', 'love', 'us', '.']\n",
      "['Many', 'of', 'you', 'must', 'have', 'tried', 'searching', 'for', 'a', 'friend', 'but', 'never', 'found', 'the', 'right', 'one', '.']\n",
      "After removing stopwords:  ['Many', 'must', 'tried', 'searching', 'friend', 'never', 'found', 'right', 'one', '.']\n"
     ]
    }
   ],
   "source": [
    "stop_words = set(stopwords.words('english'))\n",
    "\n",
    "print(stop_words)\n",
    " \n",
    "# Dummy text\n",
    "txt = \"Sukanya, Rajib and Naba are my good friends. \" \\\n",
    "    \"Sukanya is getting married next year. \" \\\n",
    "    \"Marriage is a big step in one’s life.\" \\\n",
    "    \"It is both exciting and frightening. \" \\\n",
    "    \"But friendship is a sacred bond between people.\" \\\n",
    "    \"It is a special kind of love between us. \" \\\n",
    "    \"Many of you must have tried searching for a friend \"\\\n",
    "    \"but never found the right one.\"\n",
    " \n",
    "# sent_tokenize is one of instances of\n",
    "# PunktSentenceTokenizer from the nltk.tokenize.punkt module\n",
    "\n",
    "tokenized = sent_tokenize(txt)  #it is line by line tokenizing\n",
    "print(tokenized)\n",
    "\n",
    "for line in tokenized:\n",
    "\n",
    "  wordlist = nltk.word_tokenize(line)\n",
    "  print(wordlist)\n",
    "\n",
    "   # removing stop words from wordList\n",
    "  wordList = [w for w in wordlist if not w in stop_words]\n",
    "  print('After removing stopwords: ', wordList)"
   ]
  },
  {
   "cell_type": "code",
   "execution_count": null,
   "id": "61cc3190",
   "metadata": {},
   "outputs": [],
   "source": []
  }
 ],
 "metadata": {
  "kernelspec": {
   "display_name": "Python 3 (ipykernel)",
   "language": "python",
   "name": "python3"
  },
  "language_info": {
   "codemirror_mode": {
    "name": "ipython",
    "version": 3
   },
   "file_extension": ".py",
   "mimetype": "text/x-python",
   "name": "python",
   "nbconvert_exporter": "python",
   "pygments_lexer": "ipython3",
   "version": "3.9.13"
  }
 },
 "nbformat": 4,
 "nbformat_minor": 5
}
